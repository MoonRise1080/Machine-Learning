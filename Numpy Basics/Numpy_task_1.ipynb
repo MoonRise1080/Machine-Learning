{
 "cells": [
  {
   "cell_type": "code",
   "execution_count": 40,
   "id": "6468e891",
   "metadata": {},
   "outputs": [],
   "source": [
    "import numpy as np"
   ]
  },
  {
   "cell_type": "code",
   "execution_count": 41,
   "id": "ca6bc4d8",
   "metadata": {},
   "outputs": [],
   "source": [
    "a = np.array([[1, 2, 3, 99],\n",
    "              [4, 5, 6, 999],\n",
    "              [7, 8, 9, 9999],\n",
    "              (10, 11, 12, 99999)])\n",
    "\n",
    "i = 0\n",
    "while i < 3:\n",
    "    j = 1\n",
    "    while j < 4:\n",
    "        a[i][j], a[j][i] = a[j][i], a[i][j]\n",
    "        j = j + 1\n",
    "    i = i + 1"
   ]
  },
  {
   "cell_type": "code",
   "execution_count": 42,
   "id": "4bc09bb7",
   "metadata": {},
   "outputs": [
    {
     "name": "stdout",
     "output_type": "stream",
     "text": [
      "[[    1     4     7    10]\n",
      " [    2     5     6    11]\n",
      " [    3     8     9    12]\n",
      " [   99   999  9999 99999]]\n"
     ]
    }
   ],
   "source": [
    "print(a)"
   ]
  }
 ],
 "metadata": {
  "kernelspec": {
   "display_name": "Python 3",
   "language": "python",
   "name": "python3"
  },
  "language_info": {
   "codemirror_mode": {
    "name": "ipython",
    "version": 3
   },
   "file_extension": ".py",
   "mimetype": "text/x-python",
   "name": "python",
   "nbconvert_exporter": "python",
   "pygments_lexer": "ipython3",
   "version": "3.13.3"
  }
 },
 "nbformat": 4,
 "nbformat_minor": 5
}
